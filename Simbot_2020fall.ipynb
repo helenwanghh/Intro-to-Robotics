{
  "cells": [
    {
      "cell_type": "markdown",
      "metadata": {
        "id": "hBpe0a_y2J-f"
      },
      "source": [
        "# Simbot: Uncertainties\n",
        "\n",
        "In this notebook, we will explore calibration of the robot's movement caused by imperfections in the robot, be they electronic, wheel alignement, friction, etc. \n",
        "No system is perfect in engineering, but control systems can help compensate for imperfections. Calibration is a low-level control system as it involves the following steps:\n",
        "\n",
        "* Quantification of error in a systematic manner\n",
        "* Development of a correction strategy\n",
        "* Implementation of a correction strategy\n",
        "* Operation of the corrected robot\n"
      ]
    },
    {
      "cell_type": "markdown",
      "metadata": {
        "id": "MpP1lwSd2J-i"
      },
      "source": [
        "## The Theory\n",
        "\n",
        "The DDR library from the previous notebook allows to simulate the motion of a differential drive robot based on a set of parameters and commands prescribed by the user. The robot displacement is governed by exact equations of motion:\n",
        "<br>\n",
        "$$\n",
        "\\dot{x}=r\\frac{\\omega_R+\\omega_L}{2}\\cos{\\alpha}\n",
        "$$\n",
        "<br>\n",
        "$$\n",
        "\\dot{y}=r\\frac{\\omega_R+\\omega_L}{2}\\sin{\\alpha}\n",
        "$$\n",
        "<br>\n",
        "and\n",
        "<br>\n",
        "$$\n",
        "\\dot{\\alpha}=\\frac{r}{L}(\\omega_R-\\omega_L)\n",
        "$$\n",
        "<br>\n",
        "The library does not solve these equations exactly, meaning in a continuous time, but in a <b>discrete</b> time. \n",
        "\n",
        "Even during a single user command, the equations are <b>discretized</b>:\n",
        "$$\n",
        "x(t+\\Delta t) = x(t) +\\Delta t\\left(r\\frac{\\omega_R+\\omega_L}{2}\\cos{\\alpha}\\right),\n",
        "$$\n",
        "<br>\n",
        "\n",
        "$$\n",
        "y(t+\\Delta t) = y(t) +\\Delta t\\left(r\\frac{\\omega_R+\\omega_L}{2}\\sin{\\alpha}\\right),\n",
        "$$\n",
        "<br>\n",
        "\n",
        "$$\n",
        "\\alpha(t+\\Delta t) = \\alpha(t) +\\Delta t\\left(r\\frac{\\omega_R-\\omega_L}{L}\\right).\n",
        "$$\n",
        "according to a small time step $\\Delta t$. This time step is only limited by the CPU performance (clock, RAM, number of inputs, etc). In the library below, $\\Delta t$ is the variable 'self._delta'.\n",
        "\n",
        "**Question: What is the smallest robot rotation your robot can execute for $\\omega_R=-\\omega_L=\\omega$ and a given $\\Delta t$**"
      ]
    },
    {
      "cell_type": "markdown",
      "metadata": {
        "id": "KKGoExuk2J-j"
      },
      "source": [
        "**Answer:**\n",
        "\n",
        "To simplify, assume the robot is moving straight along $x$. The displacement $\\Delta x$ over one time step  $\\Delta t$ is\n",
        "\n",
        "$$\n",
        "\\Delta x = U\\Delta t = \\omega r \\Delta t\n",
        "$$\n",
        "\n",
        "The robot is coded with a time step of $10^-2s$, therefore the smaller time increment is $\\Delta x = 0.01U$. If $\\omega = 10s^-1$ and $r=0.1m$, $\\Delta x= 0.01m$.\n",
        "\n",
        "For this choice of $\\omega$ and $r$, the precision of the robot's motion cannot be smaller than $1cm$.\n",
        "\n"
      ]
    },
    {
      "cell_type": "code",
      "execution_count": null,
      "metadata": {
        "id": "3-gkPHSP2J-k"
      },
      "outputs": [],
      "source": [
        "\"\"\"Header cell, contains modules and functions to make the whole notebook experience better\"\"\"\n",
        "%matplotlib inline \n",
        "# plots graphs within the notebook\n",
        "\n",
        "from IPython.display import display,Image, Latex\n",
        "from sympy.interactive import printing\n",
        "printing.init_printing(use_latex='mathjax')\n",
        "from IPython.display import clear_output\n",
        "\n",
        "import time\n",
        "\n",
        "from IPython.display import display,Image, Latex\n",
        "\n",
        "from IPython.display import clear_output\n",
        "\n",
        "import matplotlib.pyplot as plt\n",
        "import numpy as np\n",
        "import math\n",
        "import scipy.constants as sc\n",
        "\n",
        "\n",
        "def D2R(a):\n",
        "    \"\"\"function to convert degrees to radians. Takes single argument of degrees.\"\"\"\n",
        "    return float(((math.pi)*float(a))/180.0)\n",
        "def R2D(a):\n",
        "    \"\"\"Function to convert radians to degrees. Takes single argument of radians.\"\"\"\n",
        "    return float((180.0*float(a)/(math.pi)))\n",
        "\n",
        "    \n",
        "font = {'family' : 'serif',\n",
        "        #'color'  : 'black',\n",
        "        'weight' : 'normal',\n",
        "        'size'   : 12,\n",
        "        }\n",
        "fontlabel = {'family' : 'serif',\n",
        "        #'color'  : 'black',\n",
        "        'weight' : 'normal',\n",
        "        'size'   : 12,\n",
        "        }\n",
        "\n",
        "from matplotlib.ticker import FormatStrFormatter\n",
        "plt.rc('font', **font)\n"
      ]
    },
    {
      "cell_type": "code",
      "execution_count": null,
      "metadata": {
        "id": "azBS-Lxi2J-l"
      },
      "outputs": [],
      "source": [
        "import drivetrainbot as bot\n",
        "import drivetrainbote as bote\n",
        "import drivetrainbotee as botee\n"
      ]
    },
    {
      "cell_type": "markdown",
      "metadata": {
        "id": "B0zR9WZ42J-m"
      },
      "source": [
        "## Error quantification\n",
        "\n",
        "We must first identify if there is an error: Let's try to move in a straight line, with a robot of class `bote`. Run the cell multiple times."
      ]
    },
    {
      "cell_type": "code",
      "execution_count": null,
      "metadata": {
        "scrolled": true,
        "id": "HzWVzWnS2J-m",
        "outputId": "44bbe8de-b2ce-493a-e641-affcce5a134f"
      },
      "outputs": [
        {
          "data": {
            "image/png": "[encoded data removed]",
            "text/plain": [
              "<Figure size 450x450 with 1 Axes>"
            ]
          },
          "metadata": {
            "needs_background": "light"
          },
          "output_type": "display_data"
        },
        {
          "name": "stdout",
          "output_type": "stream",
          "text": [
            "drift angle: 2.0909465071453215\n"
          ]
        }
      ],
      "source": [
        "fig = plt.figure(figsize=(3,3),dpi=150)\n",
        "ax = fig.add_subplot(111)\n",
        "ax.set_aspect('equal')\n",
        "\n",
        "# Your code here\n",
        "mybot = bote.DDRobot()\n",
        "mybot.plot = True             # turning on plot\n",
        "mybot.mag_plot = 1.5          # coefficient of magnification of the arrow\n",
        "mybot.step_plot = 25\n",
        "mybot.length =0.4 #L\n",
        "mybot.radius = 0.1 #r\n",
        "mybot.plot_robot()            # plotting the robot!\n",
        "om_rotation = 1\n",
        "om_translation = 10\n",
        "mybot.rt_spd_right = om_translation\n",
        "mybot.rt_spd_left = om_translation\n",
        "\"\"\" Checkpoint 0 (initial condition)\"\"\"\n",
        "mybot.pos_x = 0 \n",
        "mybot.pos_y = 0 \n",
        "mybot.angle = 0\n",
        "\n",
        "mybot.move(10)\n",
        "    \n",
        "mybot.plot_robot()            # plotting robot's movement \n",
        "plt.xlim([-12, 12])             # axis limits\n",
        "plt.ylim([-12, 12])\n",
        "plt.title(\"Runtime: %.1f\" %mybot.runtime)\n",
        "plt.show()                    # plotting full course of robots path\n",
        "\n",
        "print(\"drift angle:\",bote.R2D(mybot.angle))"
      ]
    },
    {
      "cell_type": "markdown",
      "metadata": {
        "id": "fIctqrU62J-n"
      },
      "source": [
        "## Derivation of a correction strategy\n",
        "\n",
        "The first attempt at correcting the imperfection of our robot needs a framework of constraints and assumptions:\n",
        "\n",
        "* The correction protocol should be automated, i.e. no user input.\n",
        "* The drift is caused by one wheel only (randomly chosen).\n",
        "* Each robot instance has its own random drift. \n",
        "* The angle of the robot with respect to the $x$-direction is an available variable, i.e. it is measured\n",
        "* The measure of success should be demonstrated for several robots.\n",
        "\n",
        "The proposed protocol is to derive the correction based on a simple test: Driving the robot in a straight line, over one given distance at different speeds. The drift is measured by the deviation of the `mybot.angle` at the end of the each run from 0. Running at different speeds should show if the robot's error is a function of the rotational speed.\n",
        "\n",
        "As a first approach, assume that the error is on the left wheel in the form `mybot.rt_spd_right`$=\\omega_L+\\epsilon$, where $\\omega_L=\\omega_R=\\omega$ for our protocol.\n",
        "\n",
        "$$\n",
        "\\dot{x}=r\\frac{\\omega_R+(\\omega_L+\\epsilon)}{2}\\cos{\\alpha}\n",
        "$$\n",
        "\n",
        "$$\n",
        "\\dot{y}=r\\frac{\\omega_R+(\\omega_L+\\epsilon)}{2}\\sin{\\alpha}\n",
        "$$\n",
        "\n",
        "and\n",
        "\n",
        "$$\n",
        "\\dot{\\alpha}=\\frac{r}{L}(\\omega_R-(\\omega_L+\\epsilon))\n",
        "$$\n",
        "\n",
        "\n",
        "For a given angular speed $\\omega$ and a given distance $X_0$, the duration of the robot's motion is\n",
        "\n",
        "$$\n",
        "T=\\frac{X_0}{\\omega r}\n",
        "$$\n",
        "\n",
        "where $r$ is the radius of the wheel. Regardless of the angular velocity, the ideal robot should end its travel at with $x(T)=X_0$, $y(T)=0$ and $\\alpha(T)=0$.\n",
        "\n",
        "With the error $\\epsilon$, the angle drift can easily be integrated:\n",
        "\n",
        "\n",
        "$$\n",
        "\\int_0^T\\dot{\\alpha}dt=\\alpha(T)-\\alpha(0)=\\int_0^T \\frac{r}{L}(\\omega_R-(\\omega_L+\\epsilon))dt\n",
        "$$\n",
        "\n",
        "since $\\omega_R,\\omega_L,\\epsilon$ are constant in time, the equation above is:\n",
        "\n",
        "$$\n",
        "\\alpha(T)-\\alpha(0)= \\frac{r}{L}(\\omega_R-(\\omega_L+\\epsilon))T\n",
        "$$\n",
        "\n",
        "With $\\alpha=0$ and $\\omega_L=\\omega_R=\\omega$, the error is\n",
        "\n",
        "$$\n",
        "\\epsilon = -\\frac{\\alpha(T)L}{rT}\n",
        "$$\n",
        "\n",
        "\n"
      ]
    },
    {
      "cell_type": "markdown",
      "metadata": {
        "id": "yPU-4wXm2J-o"
      },
      "source": [
        "# PB 0\n",
        "A drivetrain robot turns left if $\\omega_L = \\omega -\\epsilon$ and $\\omega_R = \\omega$ or $\\omega_L = \\omega$ and $\\omega_R = \\omega +\\epsilon$ ($\\epsilon>0$), the difference is in the radius of the turn $R$, which is easily derived from the figure below:\n",
        "\n",
        "$$\n",
        "R=\\frac{L}{2}\\frac{\\omega_R+\\omega_L}{\\omega_R-\\omega_L}\n",
        "$$\n",
        "\n",
        "<img src=\"drivetrainR.png\" alt=\"Python Classes\">\n",
        "\n",
        "The following code illustrates the different trajectories for a perfect robot with $L=0.4$, $r=0.1$, $\\omega = 10$ and $\\epsilon = 1$. The robot moves for a time of $T=10s$.\n",
        "\n",
        "* use the initial and final position of the robot to derive the radius of turn of both trajectory\n",
        "* use the distance run by the robot to determine the halway angular speed \n",
        "$$\\omega_\\frac{1}{2}=\\frac{\\omega_R+\\omega_L}{2}$$\n",
        "and verify it matches the trajectories"
      ]
    },
    {
      "cell_type": "code",
      "execution_count": null,
      "metadata": {
        "scrolled": true,
        "id": "YVwdiuvE2J-o",
        "outputId": "cf03056c-b7a5-4c66-cff9-c522705bc4f6"
      },
      "outputs": [
        {
          "name": "stdout",
          "output_type": "stream",
          "text": [
            "R=0.00\n",
            "omega_mid=0.00\n",
            "R=0.00\n",
            "omega_mid=0.00\n"
          ]
        },
        {
          "data": {
            "image/png": "[encoded data removed]",
            "text/plain": [
              "<Figure size 450x450 with 1 Axes>"
            ]
          },
          "metadata": {
            "needs_background": "light"
          },
          "output_type": "display_data"
        }
      ],
      "source": [
        "T = 10\n",
        "fig = plt.figure(figsize=(3,3),dpi=150)\n",
        "ax = fig.add_subplot(111)\n",
        "ax.set_aspect('equal')\n",
        "mybot = bot.DDRobot()\n",
        "mybot.plot = True\n",
        "mybot.rt_spd_left = 10 - 1\n",
        "mybot.rt_spd_right = 10\n",
        "mybot.move(T)\n",
        "\"\"\" Calculate and print radius of turn and midpoint angular velocity\n",
        "here from mybot.pos_x and mybot.pos_y\"\"\"\n",
        "print(\"R=%.2f\"%0)\n",
        "print(\"omega_mid=%.2f\"%0)\n",
        "\n",
        "mybot.plot_robot()\n",
        "mybot.runtime = 0\n",
        "mybot.pos_x = 0\n",
        "mybot.pos_y = 0\n",
        "mybot.angle = 0\n",
        "mybot.rt_spd_left = 10\n",
        "mybot.rt_spd_right = 10 + 1\n",
        "mybot.move(T)\n",
        "\"\"\" Calculate and print radius of turn and midpoint angular velocity\n",
        "here from mybot.pos_x and mybot.pos_y\"\"\"\n",
        "print(\"R=%.2f\"%0)\n",
        "print(\"omega_mid=%.2f\"%0)\n",
        "\n",
        "mybot.plot_robot()\n",
        "# plt.xlim([-2, 102])             # axis limits\n",
        "# plt.ylim([-2, 2])\n",
        "plt.title(\"Runtime: %.1f\" %mybot.runtime)\n",
        "plt.show()"
      ]
    },
    {
      "cell_type": "markdown",
      "metadata": {
        "id": "HXnZMdVy2J-p"
      },
      "source": [
        "# PB 1\n",
        "\n",
        "Expand the previous derivation to determine if the correction should be applied to the left or right wheel of a robot from class `bote`. Use and modify the following code"
      ]
    },
    {
      "cell_type": "code",
      "execution_count": null,
      "metadata": {
        "id": "xrdnAUbV2J-p",
        "outputId": "0de66ea9-d4db-4201-bf96-223d2114cbcd"
      },
      "outputs": [
        {
          "name": "stdout",
          "output_type": "stream",
          "text": [
            "[20.          8.          4.          2.66666667  2.        ]\n"
          ]
        }
      ],
      "source": [
        "mybot = bote.DDRobot()\n",
        "mybot.plot = True\n",
        "omega = np.array([1., 2.5, 5., 7.5, 10])\n",
        "\n",
        "Tmove = 2 / (omega * mybot.radius)\n",
        "print(Tmove)"
      ]
    },
    {
      "cell_type": "code",
      "execution_count": null,
      "metadata": {
        "id": "iCX0dp1g2J-p",
        "outputId": "f54d303d-6f6f-4679-ec16-c343d1ca264c"
      },
      "outputs": [
        {
          "data": {
            "image/png": "[encoded data removed]",
            "text/plain": [
              "<Figure size 450x450 with 1 Axes>"
            ]
          },
          "metadata": {
            "needs_background": "light"
          },
          "output_type": "display_data"
        }
      ],
      "source": [
        "angle_error = np.zeros_like(omega)\n",
        "\n",
        "fig = plt.figure(figsize=(3,3),dpi=150)\n",
        "ax = fig.add_subplot(111)\n",
        "ax.set_aspect('equal')\n",
        "for i in range(len(omega)):\n",
        "    \n",
        "    \n",
        "    \"\"\" initial position\"\"\"\n",
        "    mybot.pos_x = 0\n",
        "    mybot.pos_y = 0\n",
        "    mybot.angle = 0\n",
        "    mybot.rt_spd_left = omega[i]\n",
        "    mybot.rt_spd_right = omega[i]\n",
        "    mybot.move(Tmove[i])\n",
        "    mybot.plot_robot()\n",
        "    angle_error[i] = mybot.angle\n",
        "plt.xlim([-2, 5])             # axis limits\n",
        "plt.ylim([-2, 2])\n",
        "    # plt.title(\"Runtime: %.1f\" %mybot.runtime)\n",
        "plt.show()"
      ]
    },
    {
      "cell_type": "code",
      "execution_count": null,
      "metadata": {
        "id": "KuJyZ8or2J-q",
        "outputId": "e9fcf175-b505-44ba-e569-50a8c1f87cb2"
      },
      "outputs": [
        {
          "data": {
            "image/png": "[encoded data removed]",
            "text/plain": [
              "<Figure size 450x450 with 1 Axes>"
            ]
          },
          "metadata": {
            "needs_background": "light"
          },
          "output_type": "display_data"
        }
      ],
      "source": [
        "fig = plt.figure(figsize=(3,3),dpi=150)\n",
        "ax = fig.add_subplot(111)\n",
        "plt.plot(Tmove,angle_error)\n",
        "plt.xlabel(r\"$T$\")\n",
        "plt.ylabel(r\"$\\alpha(T)$\")\n",
        "plt.show()"
      ]
    },
    {
      "cell_type": "markdown",
      "metadata": {
        "id": "fLm-OFpS2J-q"
      },
      "source": [
        "As expected from the above derivation, the final angle of the robot is a linear function of the time of motion, establishing that the error is not a function of $\\omega$. The correction therefore is simply the addition or subtraction of an offset to one of the wheel.\n",
        "\n",
        "**Your contribution is to derive an algorithm that identifies on which wheel the correction (see below) should be applied**\n",
        "\n",
        "*Hint 1:* Consider that not only a corrected robot should move straight when asked to, it should cover the distance it is programmed to cover, regardless of its speed.\n",
        "\n",
        "*Hint 2:* The calibration can be a two step process and can use both the final $x$ and $y$ position of the robot.\n",
        "\n",
        "*Hint 3:* Why do you think you were asked to solve PB 0?"
      ]
    },
    {
      "cell_type": "code",
      "execution_count": null,
      "metadata": {
        "id": "KMtZ0oHf2J-q",
        "outputId": "fd0e4ba0-f95e-42da-fedb-3d0e67ee6704"
      },
      "outputs": [
        {
          "data": {
            "image/png": "[encoded data removed]",
            "text/plain": [
              "<Figure size 450x450 with 1 Axes>"
            ]
          },
          "metadata": {
            "needs_background": "light"
          },
          "output_type": "display_data"
        },
        {
          "name": "stdout",
          "output_type": "stream",
          "text": [
            "mean: 0.03321126016856047\n",
            "median: 0.033227874105612974\n"
          ]
        }
      ],
      "source": [
        "\n",
        "correction = angle_error/Tmove*mybot.length/mybot.radius\n",
        "fig = plt.figure(figsize=(3,3),dpi=150)\n",
        "ax = fig.add_subplot(111)\n",
        "plt.plot(omega,correction,'o')\n",
        "plt.xlabel(r\"$\\omega$\")\n",
        "plt.ylabel(\"correction\")\n",
        "plt.show()\n",
        "print(\"mean:\",np.mean(correction))\n",
        "print(\"median:\",np.median(correction))"
      ]
    },
    {
      "cell_type": "markdown",
      "metadata": {
        "id": "-AsWJC_i2J-r"
      },
      "source": [
        "### Correction\n",
        "\n",
        "This is the cell you need to modify and run several times to make sure that your calibration is robust.\n"
      ]
    },
    {
      "cell_type": "code",
      "execution_count": null,
      "metadata": {
        "id": "0mYsBBfG2J-r",
        "outputId": "ab25fed1-9241-44f7-9b2f-12e4a232f31b"
      },
      "outputs": [
        {
          "data": {
            "image/png": "[encoded data removed]",
            "text/plain": [
              "<Figure size 450x450 with 1 Axes>"
            ]
          },
          "metadata": {
            "needs_background": "light"
          },
          "output_type": "display_data"
        },
        {
          "name": "stdout",
          "output_type": "stream",
          "text": [
            "angle error: [0.32837044 0.13134818 0.06567409 0.04367327 0.03283704]\n",
            "distance error: [0.09404745 0.04696532 0.02497505 0.01193715 0.01285391]\n"
          ]
        }
      ],
      "source": [
        "mybot = bote.DDRobot()\n",
        "\n",
        "\"\"\" Error quantification\"\"\"\n",
        "angle_error = np.zeros_like(omega)\n",
        "for i in range(len(omega)):\n",
        "    \n",
        "    \n",
        "    \"\"\" initial position\"\"\"\n",
        "    mybot.pos_x = 0\n",
        "    mybot.pos_y = 0\n",
        "    mybot.angle = 0\n",
        "    mybot.rt_spd_left = omega[i]\n",
        "    mybot.rt_spd_right = omega[i]\n",
        "    mybot.move(Tmove[i])\n",
        "    angle_error[i] = mybot.angle\n",
        "\"\"\" Calculation of correction (choose mean or median)\"\"\"\n",
        "# correction = np.mean(angle_error/Tmove*mybot.length/mybot.radius)\n",
        "# correction = np.median(angle_error/Tmove*mybot.length/mybot.radius)\n",
        "\n",
        "\"\"\" Calibration and Verfication \"\"\"\n",
        "angle_error = np.zeros_like(omega)\n",
        "x_error = np.zeros_like(omega)\n",
        "\n",
        "fig = plt.figure(figsize=(3,3),dpi=150)\n",
        "ax = fig.add_subplot(111)\n",
        "ax.set_aspect('equal')\n",
        "for i in range(len(omega)):\n",
        "    \n",
        "    \n",
        "    \"\"\" initial position\"\"\"\n",
        "    mybot.pos_x = 0\n",
        "    mybot.pos_y = 0\n",
        "    mybot.angle = 0\n",
        "    \"\"\" This is where you implement your correction algorithm \"\"\"\n",
        "    mybot.rt_spd_left = omega[i] + np.median(correction)\n",
        "    mybot.rt_spd_right = omega[i]\n",
        "    \n",
        "    \"\"\" End of your modifications\"\"\"\n",
        "    mybot.move(Tmove[i])\n",
        "    mybot.plot_robot()\n",
        "    angle_error[i] = mybot.angle\n",
        "    x_error[i] = mybot.pos_x - 2\n",
        "plt.xlim([-2, 4])             # axis limits\n",
        "plt.ylim([-2, 2])\n",
        "    # plt.title(\"Runtime: %.1f\" %mybot.runtime)\n",
        "plt.show()\n",
        "print(\"angle error:\",angle_error)\n",
        "print(\"distance error:\",x_error)"
      ]
    },
    {
      "cell_type": "markdown",
      "metadata": {
        "id": "Hptua_rW2J-r"
      },
      "source": [
        "## Problem 2\n",
        "\n",
        "Repeat the same operation with a robot of class `botee`. In this class, both wheels may be affected by errors\n",
        "\n"
      ]
    },
    {
      "cell_type": "code",
      "execution_count": null,
      "metadata": {
        "id": "GbOTMHXC2J-s"
      },
      "outputs": [],
      "source": [
        "\"\"\" Your code here \"\"\""
      ]
    },
    {
      "cell_type": "markdown",
      "metadata": {
        "id": "zZDeBRX_2J-s"
      },
      "source": [
        "## Problem 3\n",
        "\n",
        "Using an uncorrected robot of class `botee`, devise an on-the-fly strategy based on the $y$ coordinate of the robot to travel from $(0,0)$ to $(100,\\eta)$, $\\Delta y\\lesssim\\eta\\lesssim+\\Delta y$, see below. **The instantaneous orientation of the robot `mybot.angle` is no longer accessible to you** (at least in theory for the purpose of this problem). **You can only use the $x$ coordinate to determine if you have reached the finish line at $x=100$.**\n",
        "\n",
        "You will define a transversal distance $\\Delta y$ in which you allow your robot to navigate. Once the `mybot.pos_y`$>\\Delta y$ (`mybot.pos_y`$<-\\Delta y$) you should correct the trajectory of the robot with a rotation. This assumes that you perform a series of small motions until your robot crosses the finish line. The pseudo code would look like this:\n",
        "* While $x<X_{end}$\n",
        "    * Move $T_{forward}$ with $\\omega_R=\\omega_L=\\omega$\n",
        "    * If $y>\\Delta y$, correct orientation\n",
        "    * Else if $y<-\\Delta y$, correct orientation\n",
        "    * repeat\n",
        "You may want to think through what a good value for $T_{forward}$ might be as a function of $\\omega r$.\n",
        "\n",
        "In the absence of information on the orientation of the robot, I suggest an iterative method, outline here if $y>\\Delta y$.\n",
        "* store the current robot $y$ position \n",
        "* rotate robot clockwise over an angle of your choice\n",
        "* move your robot forward over a small distance\n",
        "* repeat until your new position $y$ is smaller than your old position \n",
        "\n",
        "In the end your trajectory should look like this:\n",
        "\n",
        "<img src=\"example.png\" alt=\"Python Classes\">"
      ]
    },
    {
      "cell_type": "code",
      "execution_count": null,
      "metadata": {
        "id": "p-hcsO0A2J-s"
      },
      "outputs": [],
      "source": [
        "mybot = botee.DDRobot()"
      ]
    },
    {
      "cell_type": "code",
      "execution_count": null,
      "metadata": {
        "id": "6h4O8SAg2J-s"
      },
      "outputs": [],
      "source": [
        "fig = plt.figure(figsize=(6,3),dpi=150)\n",
        "ax = fig.add_subplot(111)\n",
        "\n",
        "pos_start = np.array([0.,0.])\n",
        "pos_end = np.array([100.,0.])\n",
        "\n",
        "mybot.plot = True\n",
        "\n",
        "mybot.pos_x = pos_start[0]\n",
        "mybot.pos_y = pos_start[1]\n",
        "mybot.angle = 0\n",
        "\n",
        "mybot.radius = 0.1\n",
        "mybot.length = 0.4\n",
        "mybot.mag_plot = 2.5          # coefficient of magnification of the arrow\n",
        "mybot.step_plot = 30\n",
        "\"\"\" angular speed for translation\"\"\"\n",
        "omega = 10\n",
        "\"\"\" angular speed and time for rotation\"\"\"\n",
        "omega_rot = 5\n",
        "\n",
        "\"\"\"distance from y=0 at which action to correct trajectory\n",
        "should be taken\"\"\"\n",
        "Deltay = 0.5 \n",
        "\"\"\" Time increment between checking position y of the robot \n",
        "relative to +/- Deltay\"\"\"\n",
        "DT = 0.1\n",
        "alpha_rot = botee.D2R(20.)\n",
        "\n",
        "\"\"\" niter and niter_max define a killswitch to avoid infinite loop\"\"\"\n",
        "niter = 0\n",
        "niter_max = 5000\n",
        "T_to_Delta = 0\n",
        "x_ref = pos_start[0]\n",
        "y_ref = pos_start[1]\n",
        "\n",
        "while (mybot.pos_x < pos_end[0]) and niter < niter_max:\n",
        "    \"\"\" Your algorithm here\"\"\"\n",
        "    \n",
        "    mybot.rt_spd_left = mybot.rt_spd_right = omega\n",
        "    mybot.move(DT)\n",
        "    T_to_Delta += DT\n",
        "    niter += 1\n",
        "\n",
        "mybot.plot_robot()\n",
        "plt.xlim([-2, 120])             # axis limits\n",
        "# plt.ylim([-1, 1])\n",
        "xplt = np.linspace(0,100,10)\n",
        "plt.plot(xplt,+Deltay*np.ones_like(xplt),'b--')\n",
        "plt.plot(xplt,-Deltay*np.ones_like(xplt),'b--')\n",
        "plt.title(\"Runtime: %.1f\" %mybot.runtime)\n",
        "plt.text(105,Deltay,r\"$+\\Delta y$\",color='b')\n",
        "plt.text(105,-Deltay,r\"$-\\Delta y$\",color='b')\n",
        "# plt.yticks([])\n",
        "# plt.savefig(\"myfig.png\",bbox_inches=\"tight\")\n",
        "plt.show()"
      ]
    }
  ],
  "metadata": {
    "kernelspec": {
      "display_name": "Python 3",
      "language": "python",
      "name": "python3"
    },
    "language_info": {
      "codemirror_mode": {
        "name": "ipython",
        "version": 3
      },
      "file_extension": ".py",
      "mimetype": "text/x-python",
      "name": "python",
      "nbconvert_exporter": "python",
      "pygments_lexer": "ipython3",
      "version": "3.8.3"
    },
    "colab": {
      "provenance": []
    }
  },
  "nbformat": 4,
  "nbformat_minor": 0
}